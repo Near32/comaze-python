{
  "nbformat": 4,
  "nbformat_minor": 0,
  "metadata": {
    "colab": {
      "name": "Reinforcement Learning CoMaze Template",
      "provenance": []
    },
    "kernelspec": {
      "name": "python3",
      "display_name": "Python 3"
    }
  },
  "cells": [
    {
      "cell_type": "code",
      "metadata": {
        "colab": {
          "base_uri": "https://localhost:8080/"
        },
        "id": "svH1hL1teVFu",
        "outputId": "8978e8bd-4a9b-41d6-9b19-69f086647e3b"
      },
      "source": [
        "#!pip install --index-url https://test.pypi.org/simple/ comaze\n",
        "!git clone https://github.com/Near32/comaze-python.git "
      ],
      "execution_count": 10,
      "outputs": [
        {
          "output_type": "stream",
          "text": [
            "Cloning into 'comaze-python'...\n",
            "remote: Enumerating objects: 94, done.\u001b[K\n",
            "remote: Counting objects: 100% (94/94), done.\u001b[K\n",
            "remote: Compressing objects: 100% (62/62), done.\u001b[K\n",
            "remote: Total 94 (delta 35), reused 74 (delta 18), pack-reused 0\u001b[K\n",
            "Unpacking objects: 100% (94/94), done.\n"
          ],
          "name": "stdout"
        }
      ]
    },
    {
      "cell_type": "code",
      "metadata": {
        "colab": {
          "base_uri": "https://localhost:8080/"
        },
        "id": "uQPwcDYgewVY",
        "outputId": "60ef65a9-9596-490b-8d2d-a34d9fca1735"
      },
      "source": [
        "!cd comaze-python; git checkout develop-rl-template; git pull; git status; pip install -e ."
      ],
      "execution_count": 22,
      "outputs": [
        {
          "output_type": "stream",
          "text": [
            "Already on 'develop-rl-template'\n",
            "Your branch is up to date with 'origin/develop-rl-template'.\n",
            "remote: Enumerating objects: 9, done.\u001b[K\n",
            "remote: Counting objects: 100% (9/9), done.\u001b[K\n",
            "remote: Compressing objects: 100% (3/3), done.\u001b[K\n",
            "remote: Total 5 (delta 2), reused 5 (delta 2), pack-reused 0\u001b[K\n",
            "Unpacking objects: 100% (5/5), done.\n",
            "From https://github.com/Near32/comaze-python\n",
            "   516d52c..d353945  develop-rl-template -> origin/develop-rl-template\n",
            "Updating 516d52c..d353945\n",
            "Fast-forward\n",
            " comaze/env/comaze.py | 2 \u001b[32m+\u001b[m\u001b[31m-\u001b[m\n",
            " 1 file changed, 1 insertion(+), 1 deletion(-)\n",
            "On branch develop-rl-template\n",
            "Your branch is up to date with 'origin/develop-rl-template'.\n",
            "\n",
            "Untracked files:\n",
            "  (use \"git add <file>...\" to include in what will be committed)\n",
            "\n",
            "\t\u001b[31mcomaze.egg-info/\u001b[m\n",
            "\n",
            "nothing added to commit but untracked files present (use \"git add\" to track)\n",
            "Obtaining file:///content/comaze-python\n",
            "Requirement already satisfied: gym in /usr/local/lib/python3.6/dist-packages (from comaze==0.0.1) (0.17.3)\n",
            "Requirement already satisfied: tensorboardx in /usr/local/lib/python3.6/dist-packages (from comaze==0.0.1) (2.1)\n",
            "Requirement already satisfied: torch in /usr/local/lib/python3.6/dist-packages (from comaze==0.0.1) (1.7.0+cu101)\n",
            "Requirement already satisfied: torchvision in /usr/local/lib/python3.6/dist-packages (from comaze==0.0.1) (0.8.1+cu101)\n",
            "Requirement already satisfied: numpy>=1.10.4 in /usr/local/lib/python3.6/dist-packages (from gym->comaze==0.0.1) (1.18.5)\n",
            "Requirement already satisfied: pyglet<=1.5.0,>=1.4.0 in /usr/local/lib/python3.6/dist-packages (from gym->comaze==0.0.1) (1.5.0)\n",
            "Requirement already satisfied: cloudpickle<1.7.0,>=1.2.0 in /usr/local/lib/python3.6/dist-packages (from gym->comaze==0.0.1) (1.3.0)\n",
            "Requirement already satisfied: scipy in /usr/local/lib/python3.6/dist-packages (from gym->comaze==0.0.1) (1.4.1)\n",
            "Requirement already satisfied: six in /usr/local/lib/python3.6/dist-packages (from tensorboardx->comaze==0.0.1) (1.15.0)\n",
            "Requirement already satisfied: protobuf>=3.8.0 in /usr/local/lib/python3.6/dist-packages (from tensorboardx->comaze==0.0.1) (3.12.4)\n",
            "Requirement already satisfied: dataclasses in /usr/local/lib/python3.6/dist-packages (from torch->comaze==0.0.1) (0.8)\n",
            "Requirement already satisfied: future in /usr/local/lib/python3.6/dist-packages (from torch->comaze==0.0.1) (0.16.0)\n",
            "Requirement already satisfied: typing-extensions in /usr/local/lib/python3.6/dist-packages (from torch->comaze==0.0.1) (3.7.4.3)\n",
            "Requirement already satisfied: pillow>=4.1.1 in /usr/local/lib/python3.6/dist-packages (from torchvision->comaze==0.0.1) (7.0.0)\n",
            "Requirement already satisfied: setuptools in /usr/local/lib/python3.6/dist-packages (from protobuf>=3.8.0->tensorboardx->comaze==0.0.1) (50.3.2)\n",
            "Installing collected packages: comaze\n",
            "  Found existing installation: comaze 0.0.1\n",
            "    Can't uninstall 'comaze'. No files were found to uninstall.\n",
            "  Running setup.py develop for comaze\n",
            "Successfully installed comaze\n"
          ],
          "name": "stdout"
        }
      ]
    },
    {
      "cell_type": "code",
      "metadata": {
        "id": "so6LR4Yqe5Mw"
      },
      "source": [
        "import comaze\n",
        "from comaze.agents import RLCoMaze\n",
        "\n",
        "class CustomRLCoMaze(RLCoMaze):\n",
        "  def __init__(self):\n",
        "    super(CustomRLCoMaze, self).__init__()\n",
        "  \n",
        "  def build_agent(self):\n",
        "    self.agent = None \n",
        "  \n",
        "  def forward(self, obs, reward=0, done=False, infos=None):\n",
        "    return 44 #'SKIP'"
      ],
      "execution_count": 23,
      "outputs": []
    },
    {
      "cell_type": "code",
      "metadata": {
        "id": "dLO42an0fO2Q"
      },
      "source": [
        "test_agent = CustomRLCoMaze()"
      ],
      "execution_count": 24,
      "outputs": []
    },
    {
      "cell_type": "code",
      "metadata": {
        "colab": {
          "base_uri": "https://localhost:8080/",
          "height": 476
        },
        "id": "CtYZmHvJfqYg",
        "outputId": "4d67bd68-5843-40d9-e293-c49d941ad801"
      },
      "source": [
        "options = {}\n",
        "game_id = test_agent.play_new_game(options=options)"
      ],
      "execution_count": 25,
      "outputs": [
        {
          "output_type": "stream",
          "text": [
            "playing existing game {'game_id': '330893c8-9fd7-49ea-be84-b0331d34454a'}\n",
            "Joined gameId: 330893c8-9fd7-49ea-be84-b0331d34454a\n",
            "Playing as playerId: e27eb37a-2df2-4238-abb3-50650b6a8025\n",
            "Waiting for players. (Invite someone: http://teamwork.vs.uni-kassel.de/?gameId=330893c8-9fd7-49ea-be84-b0331d34454a)\n",
            "Waiting for players. (Invite someone: http://teamwork.vs.uni-kassel.de/?gameId=330893c8-9fd7-49ea-be84-b0331d34454a)\n",
            "Waiting for players. (Invite someone: http://teamwork.vs.uni-kassel.de/?gameId=330893c8-9fd7-49ea-be84-b0331d34454a)\n",
            "Waiting for players. (Invite someone: http://teamwork.vs.uni-kassel.de/?gameId=330893c8-9fd7-49ea-be84-b0331d34454a)\n",
            "Waiting for players. (Invite someone: http://teamwork.vs.uni-kassel.de/?gameId=330893c8-9fd7-49ea-be84-b0331d34454a)\n",
            "Waiting for players. (Invite someone: http://teamwork.vs.uni-kassel.de/?gameId=330893c8-9fd7-49ea-be84-b0331d34454a)\n",
            "Waiting for players. (Invite someone: http://teamwork.vs.uni-kassel.de/?gameId=330893c8-9fd7-49ea-be84-b0331d34454a)\n",
            "Waiting for players. (Invite someone: http://teamwork.vs.uni-kassel.de/?gameId=330893c8-9fd7-49ea-be84-b0331d34454a)\n",
            "Waiting for players. (Invite someone: http://teamwork.vs.uni-kassel.de/?gameId=330893c8-9fd7-49ea-be84-b0331d34454a)\n",
            "Waiting for players. (Invite someone: http://teamwork.vs.uni-kassel.de/?gameId=330893c8-9fd7-49ea-be84-b0331d34454a)\n",
            "Waiting for players. (Invite someone: http://teamwork.vs.uni-kassel.de/?gameId=330893c8-9fd7-49ea-be84-b0331d34454a)\n"
          ],
          "name": "stdout"
        },
        {
          "output_type": "error",
          "ename": "KeyboardInterrupt",
          "evalue": "ignored",
          "traceback": [
            "\u001b[0;31m---------------------------------------------------------------------------\u001b[0m",
            "\u001b[0;31mKeyboardInterrupt\u001b[0m                         Traceback (most recent call last)",
            "\u001b[0;32m<ipython-input-25-5e2551f47b61>\u001b[0m in \u001b[0;36m<module>\u001b[0;34m()\u001b[0m\n\u001b[1;32m      1\u001b[0m \u001b[0moptions\u001b[0m \u001b[0;34m=\u001b[0m \u001b[0;34m{\u001b[0m\u001b[0;34m}\u001b[0m\u001b[0;34m\u001b[0m\u001b[0;34m\u001b[0m\u001b[0m\n\u001b[0;32m----> 2\u001b[0;31m \u001b[0mgame_id\u001b[0m \u001b[0;34m=\u001b[0m \u001b[0mtest_agent\u001b[0m\u001b[0;34m.\u001b[0m\u001b[0mplay_new_game\u001b[0m\u001b[0;34m(\u001b[0m\u001b[0moptions\u001b[0m\u001b[0;34m=\u001b[0m\u001b[0moptions\u001b[0m\u001b[0;34m)\u001b[0m\u001b[0;34m\u001b[0m\u001b[0;34m\u001b[0m\u001b[0m\n\u001b[0m",
            "\u001b[0;32m/usr/local/lib/python3.6/dist-packages/comaze/env/comaze.py\u001b[0m in \u001b[0;36mplay_new_game\u001b[0;34m(self, options)\u001b[0m\n",
            "\u001b[0;32m/usr/local/lib/python3.6/dist-packages/comaze/env/comaze.py\u001b[0m in \u001b[0;36mplay_existing_game\u001b[0;34m(self, options)\u001b[0m\n",
            "\u001b[0;32m/usr/local/lib/python3.6/dist-packages/comaze/env/comaze.py\u001b[0m in \u001b[0;36mgame_loop\u001b[0;34m(self, game_id, player)\u001b[0m\n",
            "\u001b[0;31mKeyboardInterrupt\u001b[0m: "
          ]
        }
      ]
    },
    {
      "cell_type": "code",
      "metadata": {
        "id": "2Q_npS-jf5lA"
      },
      "source": [
        ""
      ],
      "execution_count": null,
      "outputs": []
    }
  ]
}